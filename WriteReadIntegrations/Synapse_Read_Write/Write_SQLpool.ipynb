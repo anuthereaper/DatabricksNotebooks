{
 "cells": [
  {
   "cell_type": "code",
   "execution_count": 0,
   "metadata": {
    "application/vnd.databricks.v1+cell": {
     "cellMetadata": {
      "byteLimit": 2048000,
      "rowLimit": 10000
     },
     "inputWidgets": {},
     "nuid": "43d5649b-334e-4617-9f77-536021ae7664",
     "showTitle": false,
     "tableResultSettingsMap": {},
     "title": ""
    }
   },
   "outputs": [],
   "source": [
    "df = spark.sql(\"SELECT * FROM big_table001 LIMIT 500;\")\n",
    "df.show(5)"
   ]
  },
  {
   "cell_type": "code",
   "execution_count": 0,
   "metadata": {
    "application/vnd.databricks.v1+cell": {
     "cellMetadata": {
      "byteLimit": 2048000,
      "rowLimit": 10000
     },
     "inputWidgets": {},
     "nuid": "f465dea3-f8fb-4ef5-8ac3-b69e4af2f3b0",
     "showTitle": false,
     "tableResultSettingsMap": {},
     "title": ""
    }
   },
   "outputs": [],
   "source": [
    "storagename= \"jridatalakesng\"\n",
    "hostname = \"synapsews-jrisng.sql.azuresynapse.net\"\n",
    "sqlpooluser = dbutils.secrets.get(scope=\"jriscopekv\", key=\"synapseuser\")\n",
    "sqlpoolpassword = dbutils.secrets.get(scope=\"jriscopekv\", key=\"synapsepassword\")\n",
    "dwhdatabase = \"testpool\"\n",
    "\n",
    "tempdir = \"abfss://synapsestaging@\" + storagename + \".dfs.core.windows.net/mydir\"\n",
    "jdbcurl = f\"jdbc:sqlserver://{hostname}:1433;database={dwhdatabase};user={sqlpooluser};password={sqlpoolpassword};encrypt=true;trustServerCertificate=false;hostNameInCertificate=*.sql.azuresynapse.net;loginTimeout=30;\"\n",
    "\n",
    "#WRITE DATA\n",
    "dbtable_new = \"dbo.table_001\"\n",
    "mode = \"overwrite\"\n",
    "\n",
    "df.write \\\n",
    "  .format(\"com.databricks.spark.sqldw\") \\\n",
    "  .option(\"url\", jdbcurl) \\\n",
    "  .mode(mode) \\\n",
    "  .option(\"forwardSparkAzureStorageCredentials\", \"true\") \\\n",
    "  .option(\"dbTable\", dbtable_new) \\\n",
    "  .option(\"tempDir\", tempdir) \\\n",
    "  .save()"
   ]
  }
 ],
 "metadata": {
  "application/vnd.databricks.v1+notebook": {
   "computePreferences": null,
   "dashboards": [],
   "environmentMetadata": {
    "base_environment": "",
    "environment_version": "2"
   },
   "language": "python",
   "notebookMetadata": {
    "pythonIndentUnit": 4
   },
   "notebookName": "Write_SQLpool",
   "widgets": {}
  },
  "language_info": {
   "name": "python"
  }
 },
 "nbformat": 4,
 "nbformat_minor": 0
}
