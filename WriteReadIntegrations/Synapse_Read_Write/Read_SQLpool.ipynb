{
 "cells": [
  {
   "cell_type": "markdown",
   "metadata": {
    "application/vnd.databricks.v1+cell": {
     "cellMetadata": {},
     "inputWidgets": {},
     "nuid": "9d10a610-ddb9-42b2-bfc1-97aab7269bd6",
     "showTitle": false,
     "tableResultSettingsMap": {},
     "title": ""
    }
   },
   "source": [
    "### Read Synapse dedicated pool"
   ]
  },
  {
   "cell_type": "code",
   "execution_count": 0,
   "metadata": {
    "application/vnd.databricks.v1+cell": {
     "cellMetadata": {
      "byteLimit": 2048000,
      "rowLimit": 10000
     },
     "inputWidgets": {},
     "nuid": "b2152793-5182-4400-b433-cb70c954bb2d",
     "showTitle": false,
     "tableResultSettingsMap": {},
     "title": ""
    }
   },
   "outputs": [],
   "source": [
    "dbtable = \"dbo.table_001\"\n",
    "\n",
    "storagename= \"jridatalakesng\"\n",
    "storagedfs = \"fs.azure.account.key.\" + storagename + \".dfs.core.windows.net\" \n",
    "storagekey = dbutils.secrets.get(scope=\"jriscopekv\", key=\"datalakekey1\")\n",
    "\n",
    "hostname = \"synapsews-jrisng.sql.azuresynapse.net\"\n",
    "sqlpooluser = dbutils.secrets.get(scope=\"jriscopekv\", key=\"synapseuser\")\n",
    "sqlpoolpassword = dbutils.secrets.get(scope=\"jriscopekv\", key=\"synapsepassword\")\n",
    "dwhdatabase = \"testpool\"\n",
    "\n",
    "tempdir = \"abfss://synapsestaging@\" + storagename + \".dfs.core.windows.net/mydir\"\n",
    "\n",
    "# Set up the storage account access key in the notebook session conf.\n",
    "spark.conf.set(\n",
    "  storagedfs,\n",
    "  storagekey)\n",
    "\n",
    "# Get some data from an Azure Synapse table. The following example applies to Databricks Runtime 11.3 LTS and above.\n",
    "df = spark.read\\\n",
    "  .format(\"sqldw\")\\\n",
    "  .option(\"host\", hostname)\\\n",
    "  .option(\"port\", \"1433\")\\\n",
    "  .option(\"user\", sqlpooluser)\\\n",
    "  .option(\"password\", sqlpoolpassword)\\\n",
    "  .option(\"database\", dwhdatabase)\\\n",
    "  .option(\"dbtable\", dbtable)\\\n",
    "  .option(\"tempDir\", tempdir)\\\n",
    "  .option(\"forwardSparkAzureStorageCredentials\", \"true\")\\\n",
    "  .load()\n",
    "\n",
    "df.show(5)"
   ]
  },
  {
   "cell_type": "markdown",
   "metadata": {
    "application/vnd.databricks.v1+cell": {
     "cellMetadata": {},
     "inputWidgets": {},
     "nuid": "5ac9d5be-2672-4897-b3b9-a8757e24eb3a",
     "showTitle": false,
     "tableResultSettingsMap": {},
     "title": ""
    }
   },
   "source": [
    "## Reading Synapse table with a query"
   ]
  },
  {
   "cell_type": "code",
   "execution_count": 0,
   "metadata": {
    "application/vnd.databricks.v1+cell": {
     "cellMetadata": {
      "byteLimit": 2048000,
      "rowLimit": 10000
     },
     "inputWidgets": {},
     "nuid": "520c91c3-4c1d-4c21-82c7-d79cb6bf4152",
     "showTitle": false,
     "tableResultSettingsMap": {},
     "title": ""
    }
   },
   "outputs": [],
   "source": [
    "dbtable = \"dbo.table_001\"\n",
    "\n",
    "storagename= \"jridatalakesng\"\n",
    "storagedfs = \"fs.azure.account.key.\" + storagename + \".dfs.core.windows.net\" \n",
    "storagekey = dbutils.secrets.get(scope=\"jriscopekv\", key=\"datalakekey1\")\n",
    "\n",
    "hostname = \"synapsews-jrisng.sql.azuresynapse.net\"\n",
    "sqlpooluser = dbutils.secrets.get(scope=\"jriscopekv\", key=\"synapseuser\")\n",
    "sqlpoolpassword = dbutils.secrets.get(scope=\"jriscopekv\", key=\"synapsepassword\")\n",
    "dwhdatabase = \"testpool\"\n",
    "\n",
    "tempdir = \"abfss://synapsestaging@\" + storagename + \".dfs.core.windows.net/mydir\"\n",
    "\n",
    "# Set up the storage account access key in the notebook session conf.\n",
    "spark.conf.set(\n",
    "  storagedfs,\n",
    "  storagekey)\n",
    "\n",
    "# Get some data from an Azure Synapse table. The following example applies to Databricks Runtime 11.3 LTS and above.\n",
    "df = spark.read\\\n",
    "  .format(\"sqldw\")\\\n",
    "  .option(\"host\", hostname)\\\n",
    "  .option(\"port\", \"1433\")\\\n",
    "  .option(\"user\", sqlpooluser)\\\n",
    "  .option(\"password\", sqlpoolpassword)\\\n",
    "  .option(\"database\", dwhdatabase)\\\n",
    "  .option(\"tempDir\", tempdir)\\\n",
    "  .option(\"query\", f\"select count(*) as count from {dbtable}\")\\\n",
    "  .option(\"forwardSparkAzureStorageCredentials\", \"true\")\\\n",
    "  .load()\n",
    "\n",
    "df.show(5)"
   ]
  }
 ],
 "metadata": {
  "application/vnd.databricks.v1+notebook": {
   "computePreferences": null,
   "dashboards": [],
   "environmentMetadata": {
    "base_environment": "",
    "environment_version": "2"
   },
   "language": "python",
   "notebookMetadata": {
    "pythonIndentUnit": 4
   },
   "notebookName": "Read_SQLpool",
   "widgets": {}
  },
  "language_info": {
   "name": "python"
  }
 },
 "nbformat": 4,
 "nbformat_minor": 0
}
