{
 "cells": [
  {
   "cell_type": "code",
   "execution_count": 0,
   "metadata": {
    "application/vnd.databricks.v1+cell": {
     "cellMetadata": {
      "byteLimit": 2048000,
      "rowLimit": 10000
     },
     "inputWidgets": {},
     "nuid": "6205e5be-fe15-454d-bf0a-64d070a23e41",
     "showTitle": false,
     "tableResultSettingsMap": {},
     "title": ""
    }
   },
   "outputs": [],
   "source": [
    "dbutils.widgets.text(\"sql_group\",\"TESTCASEA\")"
   ]
  },
  {
   "cell_type": "code",
   "execution_count": 0,
   "metadata": {
    "application/vnd.databricks.v1+cell": {
     "cellMetadata": {
      "byteLimit": 2048000,
      "rowLimit": 10000
     },
     "inputWidgets": {},
     "nuid": "914962d6-cc7c-4dfb-bdc1-dafdef21ede4",
     "showTitle": false,
     "tableResultSettingsMap": {},
     "title": ""
    }
   },
   "outputs": [],
   "source": [
    "sql_group = dbutils.widgets.get(\"sql_group\")\n",
    "print(sql_group)"
   ]
  },
  {
   "cell_type": "markdown",
   "metadata": {
    "application/vnd.databricks.v1+cell": {
     "cellMetadata": {},
     "inputWidgets": {},
     "nuid": "c1b29e35-a9a0-4b74-b7db-b99936bbffe9",
     "showTitle": false,
     "tableResultSettingsMap": {},
     "title": ""
    }
   },
   "source": [
    "### Get all the rows for a specific sql_group and belonging to sqlpool target type"
   ]
  },
  {
   "cell_type": "code",
   "execution_count": 0,
   "metadata": {
    "application/vnd.databricks.v1+cell": {
     "cellMetadata": {
      "byteLimit": 2048000,
      "rowLimit": 10000
     },
     "inputWidgets": {},
     "nuid": "9c994ad2-1549-44f4-b428-91fd69fac5c6",
     "showTitle": false,
     "tableResultSettingsMap": {},
     "title": ""
    }
   },
   "outputs": [],
   "source": [
    "config_df = spark.sql(f\"SELECT * FROM v_sql_load_config WHERE sql_group = '{sql_group}' AND sql_type = 'sqlpool'\")\n",
    "display(config_df)"
   ]
  },
  {
   "cell_type": "code",
   "execution_count": 0,
   "metadata": {
    "application/vnd.databricks.v1+cell": {
     "cellMetadata": {
      "byteLimit": 2048000,
      "rowLimit": 10000
     },
     "inputWidgets": {},
     "nuid": "158e1d88-04dd-4614-a351-55641a7854e0",
     "showTitle": false,
     "tableResultSettingsMap": {},
     "title": ""
    }
   },
   "outputs": [],
   "source": [
    "import time\n",
    "import json\n",
    "\n",
    "notebook_name = \"Child_notebook\"\n",
    "tenantId = \"dac94bb8-0c1d-4d66-8a58-e02c2406c486\"\n",
    "\n",
    "def write_to_sql(param):\n",
    "  src_table = param[\"src_table\"]\n",
    "  target_table = param[\"trgt_table\"]\n",
    "  sql_group = param[\"sql_group\"]\n",
    "  db_name = param[\"db_name\"]\n",
    "  mode = param[\"mode\"]\n",
    "  hostname = param[\"hostname\"]\n",
    "  key_scope = param[\"key_scope\"]\n",
    "  cred_type = param[\"cred_type\"]\n",
    "  credentials = param[\"credentials\"]\n",
    "\n",
    "  print(f\"Table {target_table} started\")\n",
    "\n",
    "  result = dbutils.notebook.run(f\"./{notebook_name}\", 1200, {\"src_table\": src_table, \"target_table\":target_table, \"sql_group\":sql_group, \"db_name\": db_name, \"mode\":mode,\"hostname\": hostname, \"key_scope\": key_scope, \"cred_type\": cred_type, \"userid\": credentials['userid'], \"password\": credentials['password'], \"tenantId\": tenantId})\n",
    "  return json.loads(result)  "
   ]
  },
  {
   "cell_type": "markdown",
   "metadata": {
    "application/vnd.databricks.v1+cell": {
     "cellMetadata": {},
     "inputWidgets": {},
     "nuid": "626d8d7e-ddc7-48cb-bab8-0fc1eca57b93",
     "showTitle": false,
     "tableResultSettingsMap": {},
     "title": ""
    }
   },
   "source": [
    "## Call the SQL writing function in multi threaded format"
   ]
  },
  {
   "cell_type": "code",
   "execution_count": 0,
   "metadata": {
    "application/vnd.databricks.v1+cell": {
     "cellMetadata": {
      "byteLimit": 2048000,
      "rowLimit": 10000
     },
     "inputWidgets": {},
     "nuid": "3a6a4d26-dcbf-41c0-9a4b-0250f52a252d",
     "showTitle": false,
     "tableResultSettingsMap": {},
     "title": ""
    }
   },
   "outputs": [],
   "source": [
    "import concurrent.futures\n",
    "start_time = time.perf_counter()\n",
    "worker_count = 8\n",
    "\n",
    "cols_args = config_df.toPandas().to_dict('records') \n",
    "\n",
    "with concurrent.futures.ThreadPoolExecutor(worker_count) as executor:\n",
    "    futures = {executor.submit(write_to_sql, param):  param for param in cols_args}\n",
    "        \n",
    "final_result = []\n",
    "for f in concurrent.futures.as_completed(futures):\n",
    "    final_result.append(f.result())\n",
    "print(f\"Final json result : {final_result}\")\n",
    "end_time = time.perf_counter()\n",
    "total_time = end_time - start_time\n",
    "print(f\"Total time : {total_time}\")"
   ]
  }
 ],
 "metadata": {
  "application/vnd.databricks.v1+notebook": {
   "computePreferences": null,
   "dashboards": [],
   "environmentMetadata": {
    "base_environment": "",
    "environment_version": "2"
   },
   "language": "python",
   "notebookMetadata": {
    "pythonIndentUnit": 4
   },
   "notebookName": "Master_notebook",
   "widgets": {
    "sql_group": {
     "currentValue": "TESTCASEB",
     "nuid": "d4659a2e-7b58-4736-a835-6acafb8f4315",
     "typedWidgetInfo": {
      "autoCreated": false,
      "defaultValue": "TESTCASEA",
      "label": null,
      "name": "sql_group",
      "options": {
       "widgetDisplayType": "Text",
       "validationRegex": null
      },
      "parameterDataType": "String"
     },
     "widgetInfo": {
      "widgetType": "text",
      "defaultValue": "TESTCASEA",
      "label": null,
      "name": "sql_group",
      "options": {
       "widgetType": "text",
       "autoCreated": null,
       "validationRegex": null
      }
     }
    }
   }
  },
  "language_info": {
   "name": "python"
  }
 },
 "nbformat": 4,
 "nbformat_minor": 0
}
