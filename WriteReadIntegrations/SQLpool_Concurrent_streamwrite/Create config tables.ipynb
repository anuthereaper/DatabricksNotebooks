{
 "cells": [
  {
   "cell_type": "markdown",
   "metadata": {
    "application/vnd.databricks.v1+cell": {
     "cellMetadata": {},
     "inputWidgets": {},
     "nuid": "30aaf535-fb81-48e1-ba50-0e2fe6d43e9b",
     "showTitle": false,
     "tableResultSettingsMap": {},
     "title": ""
    }
   },
   "source": [
    "### Create a config table and insert some data into it\n",
    "This holds the information of the source delta table and the SQL target table"
   ]
  },
  {
   "cell_type": "markdown",
   "metadata": {
    "application/vnd.databricks.v1+cell": {
     "cellMetadata": {},
     "inputWidgets": {},
     "nuid": "d4ff4c43-cdd8-44e0-8b2e-f6b44a5aa4c8",
     "showTitle": false,
     "tableResultSettingsMap": {},
     "title": ""
    }
   },
   "source": [
    "### Create and insert data into the server detail table"
   ]
  },
  {
   "cell_type": "code",
   "execution_count": 0,
   "metadata": {
    "application/vnd.databricks.v1+cell": {
     "cellMetadata": {
      "byteLimit": 2048000,
      "implicitDf": true,
      "rowLimit": 10000
     },
     "inputWidgets": {},
     "nuid": "65602fe1-85d7-411f-9c0a-620b04768100",
     "showTitle": false,
     "tableResultSettingsMap": {},
     "title": ""
    }
   },
   "outputs": [],
   "source": [
    "%sql\n",
    "CREATE OR REPLACE table sqlsrvr_dtl_config\n",
    "(server_id BIGINT, hostname STRING, key_scope STRING, cred_type STRING, credentials STRUCT<userid STRING, password STRING>);\n",
    "\n",
    "ALTER TABLE sqlsrvr_dtl_config ADD CONSTRAINT cred_type_chk CHECK(cred_type IN ('useridpassword','serviceprincipal'));\n",
    "\n",
    "INSERT INTO sqlsrvr_dtl_config\n",
    "VALUES\n",
    "  (1, \"synapsews-jrisng.sql.azuresynapse.net\", \"jriscopekv\", \"useridpassword\", PARSE_JSON('{\"userid\":\"synapseuser2\",\"password\":\"synapsepassword2\"}'));"
   ]
  },
  {
   "cell_type": "markdown",
   "metadata": {
    "application/vnd.databricks.v1+cell": {
     "cellMetadata": {},
     "inputWidgets": {},
     "nuid": "141ef514-f63c-4da8-adda-e2b38988f8d7",
     "showTitle": false,
     "tableResultSettingsMap": {},
     "title": ""
    }
   },
   "source": [
    "### Create and insert data into the database detail table"
   ]
  },
  {
   "cell_type": "code",
   "execution_count": 0,
   "metadata": {
    "application/vnd.databricks.v1+cell": {
     "cellMetadata": {
      "byteLimit": 2048000,
      "implicitDf": true,
      "rowLimit": 10000
     },
     "inputWidgets": {},
     "nuid": "7a31f9c9-28b6-4920-a939-55609dd4f379",
     "showTitle": false,
     "tableResultSettingsMap": {},
     "title": ""
    }
   },
   "outputs": [],
   "source": [
    "%sql\n",
    "CREATE OR REPLAce table sqldb_dtl_config\n",
    "(db_id BIGINT, db_name STRING, server_id BIGINT);\n",
    "\n",
    "INSERT INTO sqldb_dtl_config\n",
    "VALUES\n",
    "  (1, \"testpool\", 1);"
   ]
  },
  {
   "cell_type": "markdown",
   "metadata": {
    "application/vnd.databricks.v1+cell": {
     "cellMetadata": {},
     "inputWidgets": {},
     "nuid": "fdbcc8f0-3e76-42fb-bada-c3c563f0d6e4",
     "showTitle": false,
     "tableResultSettingsMap": {},
     "title": ""
    }
   },
   "source": [
    "### Create and insert data into the sql load config detail table"
   ]
  },
  {
   "cell_type": "code",
   "execution_count": 0,
   "metadata": {
    "application/vnd.databricks.v1+cell": {
     "cellMetadata": {
      "byteLimit": 2048000,
      "implicitDf": true,
      "rowLimit": 10000
     },
     "inputWidgets": {},
     "nuid": "dbc2b1b1-9af7-4862-87d4-00ad35c1559a",
     "showTitle": false,
     "tableResultSettingsMap": {},
     "title": ""
    }
   },
   "outputs": [],
   "source": [
    "%sql\n",
    "CREATE OR REPLACE TABLE sql_load_config\n",
    "  (id BIGINT, sql_type STRING, sql_group STRING, src_table STRING, trgt_table STRING, db_id BIGINT);\n",
    "\n",
    "INSERT INTO sql_load_config\n",
    "VALUES \n",
    "  (1, \"sqlpool\", \"TESTCASEA\", \"table_25mb\", \"table_25mb1a\", 1), \n",
    "  (2, \"sqlpool\", \"TESTCASEA\", \"table_25mb\", \"table_25mb2a\", 1),\n",
    "  (3, \"sqlpool\", \"TESTCASEA\", \"table_25mb\", \"table_25mb3a\", 1),\n",
    "  (4, \"sqlpool\", \"TESTCASEA\", \"table_25mb\", \"table_25mb4a\", 1),\n",
    "  (5, \"sqlpool\", \"TESTCASEB\", \"table1\", \"table1\", 1),\n",
    "  (6, \"sqlpool\", \"TESTCASEB\", \"table2\", \"table2\", 1);"
   ]
  },
  {
   "cell_type": "markdown",
   "metadata": {
    "application/vnd.databricks.v1+cell": {
     "cellMetadata": {},
     "inputWidgets": {},
     "nuid": "4c3ec9ab-b0cf-4ae5-9153-160fc9f56c1f",
     "showTitle": false,
     "tableResultSettingsMap": {},
     "title": ""
    }
   },
   "source": [
    "### Create view which will be used by the sql load framework"
   ]
  },
  {
   "cell_type": "code",
   "execution_count": 0,
   "metadata": {
    "application/vnd.databricks.v1+cell": {
     "cellMetadata": {
      "byteLimit": 2048000,
      "implicitDf": true,
      "rowLimit": 10000
     },
     "inputWidgets": {},
     "nuid": "3a19372f-ce60-44df-bfd5-b8341949f1ca",
     "showTitle": false,
     "tableResultSettingsMap": {},
     "title": ""
    }
   },
   "outputs": [],
   "source": [
    "%sql\n",
    "CREATE OR REPLACE VIEW v_sql_load_config AS\n",
    "SELECT A.*, B.db_name, B.server_id,C.hostname, C.key_scope, C.cred_type, C.credentials FROM sql_load_config A \n",
    "LEFT JOIN sqldb_dtl_config B ON B.db_id = A.db_id\n",
    "LEFT JOIN sqlsrvr_dtl_config C ON C.server_id = B.server_id;\n",
    "\n",
    "SELECT * FROM v_sql_load_config"
   ]
  }
 ],
 "metadata": {
  "application/vnd.databricks.v1+notebook": {
   "computePreferences": null,
   "dashboards": [],
   "environmentMetadata": {
    "base_environment": "",
    "environment_version": "2"
   },
   "language": "python",
   "notebookMetadata": {
    "mostRecentlyExecutedCommandWithImplicitDF": {
     "commandId": 6408105659342015,
     "dataframes": [
      "_sqldf"
     ]
    },
    "pythonIndentUnit": 4
   },
   "notebookName": "Create config tables",
   "widgets": {}
  },
  "language_info": {
   "name": "python"
  }
 },
 "nbformat": 4,
 "nbformat_minor": 0
}
