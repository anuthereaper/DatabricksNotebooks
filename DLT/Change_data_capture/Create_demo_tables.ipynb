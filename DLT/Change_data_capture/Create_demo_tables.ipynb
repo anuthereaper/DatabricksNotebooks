{
 "cells": [
  {
   "cell_type": "markdown",
   "metadata": {
    "application/vnd.databricks.v1+cell": {
     "cellMetadata": {},
     "inputWidgets": {},
     "nuid": "980e443c-0dfc-408a-9a91-a49b461e0068",
     "showTitle": false,
     "tableResultSettingsMap": {},
     "title": ""
    }
   },
   "source": [
    "### Create initial table and add data to it"
   ]
  },
  {
   "cell_type": "code",
   "execution_count": 0,
   "metadata": {
    "application/vnd.databricks.v1+cell": {
     "cellMetadata": {
      "byteLimit": 2048000,
      "implicitDf": true,
      "rowLimit": 10000
     },
     "inputWidgets": {},
     "nuid": "88e774f4-e9b7-4581-b7f3-d0932ba8c6bf",
     "showTitle": false,
     "tableResultSettingsMap": {},
     "title": ""
    }
   },
   "outputs": [],
   "source": [
    "%sql\n",
    "CREATE OR REPLACE TABLE cust_table (\n",
    "    id INT,\n",
    "    name VARCHAR(50) COMMENT \"this is a name\",\n",
    "    email VARCHAR(100) COMMENT \"this is an email\"\n",
    ");\n",
    "\n",
    "-- Alter the table properties enabling change feed\n",
    "ALTER TABLE cust_table SET TBLPROPERTIES (delta.enableChangeDataFeed = true);\n",
    "\n",
    "-- Insert some records\n",
    "INSERT INTO cust_table VALUES\n",
    "(1, 'John',  'johndoe@gmail.com'),\n",
    "(2, 'Jane', 'janedoe@yahoo.com'),\n",
    "(3, 'Bob', 'bobsmith@hotmail.com');"
   ]
  },
  {
   "cell_type": "markdown",
   "metadata": {
    "application/vnd.databricks.v1+cell": {
     "cellMetadata": {},
     "inputWidgets": {},
     "nuid": "f452df7f-9330-42c9-ab80-9a4a39132377",
     "showTitle": false,
     "tableResultSettingsMap": {},
     "title": ""
    }
   },
   "source": [
    "### Add, delete and modify some data AFTER running the DLT once"
   ]
  },
  {
   "cell_type": "code",
   "execution_count": 0,
   "metadata": {
    "application/vnd.databricks.v1+cell": {
     "cellMetadata": {
      "byteLimit": 2048000,
      "implicitDf": true,
      "rowLimit": 10000
     },
     "inputWidgets": {},
     "nuid": "3edca4b0-bf6e-45a0-87ea-4548f767f79d",
     "showTitle": false,
     "tableResultSettingsMap": {},
     "title": ""
    }
   },
   "outputs": [],
   "source": [
    "%sql\n",
    "-- Insert some records\n",
    "INSERT INTO cust_table VALUES\n",
    "(4, 'Ram',  'ramram@gmail.com');\n",
    "\n",
    "-- update a record\n",
    "UPDATE cust_table SET name = 'MalcomX' WHERE id = 3;\n",
    "\n",
    "-- delete a record\n",
    "DELETE from cust_table WHERE id = 1;"
   ]
  },
  {
   "cell_type": "markdown",
   "metadata": {
    "application/vnd.databricks.v1+cell": {
     "cellMetadata": {},
     "inputWidgets": {},
     "nuid": "c49534a1-1f4b-462f-ad8f-22783a5b1e2e",
     "showTitle": false,
     "tableResultSettingsMap": {},
     "title": ""
    }
   },
   "source": [
    "### Check output tables once DLT pipeline has run"
   ]
  },
  {
   "cell_type": "code",
   "execution_count": 0,
   "metadata": {
    "application/vnd.databricks.v1+cell": {
     "cellMetadata": {
      "byteLimit": 2048000,
      "implicitDf": true,
      "rowLimit": 10000
     },
     "inputWidgets": {},
     "nuid": "03335f58-b1a0-446d-abd3-8f85b05779a2",
     "showTitle": false,
     "tableResultSettingsMap": {},
     "title": ""
    }
   },
   "outputs": [],
   "source": [
    "%sql\n",
    "SELECT * FROM jri.gold.cust_table_scd1;"
   ]
  },
  {
   "cell_type": "code",
   "execution_count": 0,
   "metadata": {
    "application/vnd.databricks.v1+cell": {
     "cellMetadata": {
      "byteLimit": 2048000,
      "implicitDf": true,
      "rowLimit": 10000
     },
     "inputWidgets": {},
     "nuid": "95c69b04-8ade-4411-ab4c-5b97305eb0e7",
     "showTitle": false,
     "tableResultSettingsMap": {},
     "title": ""
    }
   },
   "outputs": [],
   "source": [
    "%sql\n",
    "SELECT * FROM jri.gold.cust_table_scd2;"
   ]
  }
 ],
 "metadata": {
  "application/vnd.databricks.v1+notebook": {
   "computePreferences": null,
   "dashboards": [],
   "environmentMetadata": {
    "base_environment": "",
    "environment_version": "2"
   },
   "language": "python",
   "notebookMetadata": {
    "mostRecentlyExecutedCommandWithImplicitDF": {
     "commandId": 8287699962631450,
     "dataframes": [
      "_sqldf"
     ]
    },
    "pythonIndentUnit": 4
   },
   "notebookName": "Create_demo_tables",
   "widgets": {}
  },
  "language_info": {
   "name": "python"
  }
 },
 "nbformat": 4,
 "nbformat_minor": 0
}
