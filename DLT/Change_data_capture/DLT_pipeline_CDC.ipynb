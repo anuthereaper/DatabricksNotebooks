{
 "cells": [
  {
   "cell_type": "markdown",
   "metadata": {
    "application/vnd.databricks.v1+cell": {
     "cellMetadata": {},
     "inputWidgets": {},
     "nuid": "136a40d9-3a2c-4c28-a842-faa3559bb900",
     "showTitle": false,
     "tableResultSettingsMap": {},
     "title": ""
    }
   },
   "source": [
    "### https://docs.databricks.com/en/delta-live-tables/cdc.html#language-sql"
   ]
  },
  {
   "cell_type": "code",
   "execution_count": 0,
   "metadata": {
    "application/vnd.databricks.v1+cell": {
     "cellMetadata": {},
     "inputWidgets": {},
     "nuid": "b84e5e0f-bd3c-4615-97c0-ffa392c335e8",
     "showTitle": false,
     "tableResultSettingsMap": {},
     "title": ""
    }
   },
   "outputs": [],
   "source": [
    "import dlt\n",
    "from pyspark.sql.functions import col, expr\n",
    "\n",
    "@dlt.view\n",
    "def cdc_view():\n",
    "  return spark.readStream.option(\"skipChangeCommits\",\"true\").option(\"readChangeFeed\", \"true\").table(\"hive_metastore.default.cust_table\")\n",
    "\n",
    "dlt.create_streaming_table(\"cust_table_scd1\")\n",
    "\n",
    "dlt.apply_changes(\n",
    "  target = \"cust_table_scd1\",\n",
    "  source = \"cdc_view\",\n",
    "  keys = [\"id\"],\n",
    "  sequence_by = col(\"_commit_timestamp\"),\n",
    "  apply_as_deletes = expr(\"_change_type = 'delete'\"),\n",
    "  apply_as_truncates = expr(\"_change_type = 'truncate'\"),\n",
    "  except_column_list = [\"_change_type\", \"_commit_timestamp\"],\n",
    "  stored_as_scd_type = 1\n",
    ")"
   ]
  },
  {
   "cell_type": "code",
   "execution_count": 0,
   "metadata": {
    "application/vnd.databricks.v1+cell": {
     "cellMetadata": {},
     "inputWidgets": {},
     "nuid": "21abc204-f325-4c7f-80ac-32f67e60dca1",
     "showTitle": false,
     "tableResultSettingsMap": {},
     "title": ""
    }
   },
   "outputs": [],
   "source": [
    "dlt.create_streaming_table(\"cust_table_scd2\")\n",
    "\n",
    "dlt.apply_changes(\n",
    "  target = \"cust_table_scd2\",\n",
    "  source = \"cdc_view\",\n",
    "  keys = [\"id\"],\n",
    "  sequence_by = col(\"_commit_timestamp\"),\n",
    "  apply_as_deletes = expr(\"_change_type = 'delete'\"),\n",
    "  except_column_list = [\"_change_type\", \"_commit_timestamp\"],\n",
    "  stored_as_scd_type = \"2\",\n",
    "  track_history_except_column_list = [\"email\"]\n",
    ")"
   ]
  }
 ],
 "metadata": {
  "application/vnd.databricks.v1+notebook": {
   "computePreferences": null,
   "dashboards": [],
   "environmentMetadata": {
    "base_environment": "",
    "environment_version": "2"
   },
   "language": "python",
   "notebookMetadata": {
    "pythonIndentUnit": 4
   },
   "notebookName": "DLT_pipeline_CDC",
   "widgets": {}
  },
  "language_info": {
   "name": "python"
  }
 },
 "nbformat": 4,
 "nbformat_minor": 0
}
