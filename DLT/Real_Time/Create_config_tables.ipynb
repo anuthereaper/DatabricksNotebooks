{
 "cells": [
  {
   "cell_type": "code",
   "execution_count": 0,
   "metadata": {
    "application/vnd.databricks.v1+cell": {
     "cellMetadata": {},
     "inputWidgets": {},
     "nuid": "cbb86b58-0bc5-427d-9cde-5e06e972d3d6",
     "showTitle": false,
     "tableResultSettingsMap": {},
     "title": ""
    }
   },
   "outputs": [],
   "source": [
    "%sql\n",
    "CREATE OR REPLACE TABLE rt_config\n",
    "  (id STRING, desc STRING, filegroup_id INT, branch STRING, target_layer STRING, inputs STRING, kafka_server STRING, kafka_key STRING, kv_kafka_secret_key STRING, out_table STRING, topic STRING, sql_stmt STRING, sql_parms STRING, target_adls_loc STRING, partition_cols STRING, dq_rules ARRAY<STRUCT<name:STRING,expectation:STRING>>);\n",
    "\n",
    "\n",
    "INSERT INTO rt_config\n",
    "VALUES \n",
    "  (\"RTUSECASE1\", \"TEST REAL TIME0.1\", 3, \"SNG\", \"STAGE\", \"{}\", \"rw.kfcd692b4r6jr1sr4475.at.double.cloud:9091\",\"admin\",\"kafkasecret001\",\"Cust\",\"topic_0\",\"select * from STREAM {orders}\",\"{}\",\"abfss://raw@jridatalakesng.dfs.core.windows.net/?????/\",\"\", array()),\n",
    "  (\"RTUSECASE1\", \"TEST REAL TIME0.1\", 3, \"SNG\", \"STAGE\", \"{}\", \"rw.kfcd692b4r6jr1sr4475.at.double.cloud:9091\",\"admin\",\"kafkasecret001\",\"Txn\",\"topic_1\",\"select * from STREAM {orders}\",\"{}\",\"abfss://raw@jridatalakesng.dfs.core.windows.net/?????/\",\"\", array()),\n",
    "  (\"RTEVENTHUB1\", \"TEST REAL TIME0.2\", 4, \"SNG\", \"STAGE\", \"{}\", \"jrisngehns.servicebus.windows.net:9093\",\"$ConnectionString\",\"ehnsconnstr\",\"Cust\",\"topic_0\",\"select * from STREAM {orders}\",\"{}\",\"abfss://raw@jridatalakesng.dfs.core.windows.net/?????/\",\"\", array()),\n",
    "  (\"RTEVENTHUB1\", \"TEST REAL TIME0.2\", 4, \"SNG\", \"STAGE\", \"{}\", \"jrisngehns.servicebus.windows.net:9093\",\"$ConnectionString\",\"ehnsconnstr\",\"Txn\",\"topic_1\",\"select * from STREAM {orders}\",\"{}\",\"abfss://raw@jridatalakesng.dfs.core.windows.net/?????/\",\"\", array());\n",
    "\n",
    "SELECT * FROM  rt_config;"
   ]
  }
 ],
 "metadata": {
  "application/vnd.databricks.v1+notebook": {
   "computePreferences": null,
   "dashboards": [],
   "environmentMetadata": {
    "base_environment": "",
    "environment_version": "2"
   },
   "language": "python",
   "notebookMetadata": {
    "pythonIndentUnit": 4
   },
   "notebookName": "Create_config_tables",
   "widgets": {}
  },
  "language_info": {
   "name": "python"
  }
 },
 "nbformat": 4,
 "nbformat_minor": 0
}
